{
  "nbformat": 4,
  "nbformat_minor": 0,
  "metadata": {
    "colab": {
      "name": "Stock Price Prediction.ipynb",
      "provenance": [],
      "collapsed_sections": [],
      "mount_file_id": "1TJ2-1esJIgxbuDfHPqcPSS8nN_3rZIqu",
      "authorship_tag": "ABX9TyNs945pW9ek25p1uG8MgioZ",
      "include_colab_link": true
    },
    "kernelspec": {
      "name": "python3",
      "display_name": "Python 3"
    },
    "accelerator": "GPU"
  },
  "cells": [
    {
      "cell_type": "markdown",
      "metadata": {
        "id": "view-in-github",
        "colab_type": "text"
      },
      "source": [
        "<a href=\"https://colab.research.google.com/github/shivampip/stock-price-prediction/blob/master/Stock_Price_Prediction.ipynb\" target=\"_parent\"><img src=\"https://colab.research.google.com/assets/colab-badge.svg\" alt=\"Open In Colab\"/></a>"
      ]
    },
    {
      "cell_type": "markdown",
      "metadata": {
        "id": "xp0WWk8XVysH",
        "colab_type": "text"
      },
      "source": [
        "### Google Stock Price Prediction"
      ]
    },
    {
      "cell_type": "code",
      "metadata": {
        "id": "DHjJTh8sV2H7",
        "colab_type": "code",
        "colab": {}
      },
      "source": [
        "import numpy as np\n",
        "import pandas as pd\n",
        "import matplotlib.pyplot as plt"
      ],
      "execution_count": 0,
      "outputs": []
    },
    {
      "cell_type": "markdown",
      "metadata": {
        "id": "qp-sciVIWTHc",
        "colab_type": "text"
      },
      "source": [
        "#### Collecting data"
      ]
    },
    {
      "cell_type": "code",
      "metadata": {
        "id": "afAJyxuiV6wa",
        "colab_type": "code",
        "colab": {
          "base_uri": "https://localhost:8080/",
          "height": 136
        },
        "outputId": "f8a62df7-a1f1-4d3f-87f2-043ea999102f"
      },
      "source": [
        "! git clone https://www.github.com/shivampip/stock-price-prediction"
      ],
      "execution_count": 2,
      "outputs": [
        {
          "output_type": "stream",
          "text": [
            "Cloning into 'stock-price-prediction'...\n",
            "warning: redirecting to https://github.com/shivampip/stock-price-prediction.git/\n",
            "remote: Enumerating objects: 15, done.\u001b[K\n",
            "remote: Counting objects:   6% (1/15)\u001b[K\rremote: Counting objects:  13% (2/15)\u001b[K\rremote: Counting objects:  20% (3/15)\u001b[K\rremote: Counting objects:  26% (4/15)\u001b[K\rremote: Counting objects:  33% (5/15)\u001b[K\rremote: Counting objects:  40% (6/15)\u001b[K\rremote: Counting objects:  46% (7/15)\u001b[K\rremote: Counting objects:  53% (8/15)\u001b[K\rremote: Counting objects:  60% (9/15)\u001b[K\rremote: Counting objects:  66% (10/15)\u001b[K\rremote: Counting objects:  73% (11/15)\u001b[K\rremote: Counting objects:  80% (12/15)\u001b[K\rremote: Counting objects:  86% (13/15)\u001b[K\rremote: Counting objects:  93% (14/15)\u001b[K\rremote: Counting objects: 100% (15/15)\u001b[K\rremote: Counting objects: 100% (15/15), done.\u001b[K\n",
            "remote: Compressing objects: 100% (14/14), done.\u001b[K\n",
            "remote: Total 15 (delta 1), reused 5 (delta 0), pack-reused 0\u001b[K\n",
            "Unpacking objects: 100% (15/15), done.\n"
          ],
          "name": "stdout"
        }
      ]
    },
    {
      "cell_type": "code",
      "metadata": {
        "id": "0WtA8LZhWEck",
        "colab_type": "code",
        "colab": {}
      },
      "source": [
        "! mv ./stock-price-prediction/*.csv ."
      ],
      "execution_count": 0,
      "outputs": []
    },
    {
      "cell_type": "code",
      "metadata": {
        "id": "N6ml-mSyWObP",
        "colab_type": "code",
        "colab": {
          "base_uri": "https://localhost:8080/",
          "height": 51
        },
        "outputId": "56d9ef37-fe53-4bd5-badd-d35d7d1ab23c"
      },
      "source": [
        "! ls"
      ],
      "execution_count": 4,
      "outputs": [
        {
          "output_type": "stream",
          "text": [
            "Google_Stock_Price_Test.csv   sample_data\n",
            "Google_Stock_Price_Train.csv  stock-price-prediction\n"
          ],
          "name": "stdout"
        }
      ]
    },
    {
      "cell_type": "markdown",
      "metadata": {
        "id": "xo4nVASdWexP",
        "colab_type": "text"
      },
      "source": [
        "#### Data Preprocessing"
      ]
    },
    {
      "cell_type": "code",
      "metadata": {
        "id": "5n-3VIUJWPNf",
        "colab_type": "code",
        "colab": {}
      },
      "source": [
        "ds_train= pd.read_csv(\"Google_Stock_Price_Train.csv\")"
      ],
      "execution_count": 0,
      "outputs": []
    },
    {
      "cell_type": "code",
      "metadata": {
        "id": "kTm4uQEkWqhC",
        "colab_type": "code",
        "colab": {
          "base_uri": "https://localhost:8080/",
          "height": 204
        },
        "outputId": "c4c7e788-5eb5-486d-ab3d-339da589e77e"
      },
      "source": [
        "ds_train.head()"
      ],
      "execution_count": 6,
      "outputs": [
        {
          "output_type": "execute_result",
          "data": {
            "text/html": [
              "<div>\n",
              "<style scoped>\n",
              "    .dataframe tbody tr th:only-of-type {\n",
              "        vertical-align: middle;\n",
              "    }\n",
              "\n",
              "    .dataframe tbody tr th {\n",
              "        vertical-align: top;\n",
              "    }\n",
              "\n",
              "    .dataframe thead th {\n",
              "        text-align: right;\n",
              "    }\n",
              "</style>\n",
              "<table border=\"1\" class=\"dataframe\">\n",
              "  <thead>\n",
              "    <tr style=\"text-align: right;\">\n",
              "      <th></th>\n",
              "      <th>Date</th>\n",
              "      <th>Open</th>\n",
              "      <th>High</th>\n",
              "      <th>Low</th>\n",
              "      <th>Close</th>\n",
              "      <th>Volume</th>\n",
              "    </tr>\n",
              "  </thead>\n",
              "  <tbody>\n",
              "    <tr>\n",
              "      <th>0</th>\n",
              "      <td>1/3/2012</td>\n",
              "      <td>325.25</td>\n",
              "      <td>332.83</td>\n",
              "      <td>324.97</td>\n",
              "      <td>663.59</td>\n",
              "      <td>7,380,500</td>\n",
              "    </tr>\n",
              "    <tr>\n",
              "      <th>1</th>\n",
              "      <td>1/4/2012</td>\n",
              "      <td>331.27</td>\n",
              "      <td>333.87</td>\n",
              "      <td>329.08</td>\n",
              "      <td>666.45</td>\n",
              "      <td>5,749,400</td>\n",
              "    </tr>\n",
              "    <tr>\n",
              "      <th>2</th>\n",
              "      <td>1/5/2012</td>\n",
              "      <td>329.83</td>\n",
              "      <td>330.75</td>\n",
              "      <td>326.89</td>\n",
              "      <td>657.21</td>\n",
              "      <td>6,590,300</td>\n",
              "    </tr>\n",
              "    <tr>\n",
              "      <th>3</th>\n",
              "      <td>1/6/2012</td>\n",
              "      <td>328.34</td>\n",
              "      <td>328.77</td>\n",
              "      <td>323.68</td>\n",
              "      <td>648.24</td>\n",
              "      <td>5,405,900</td>\n",
              "    </tr>\n",
              "    <tr>\n",
              "      <th>4</th>\n",
              "      <td>1/9/2012</td>\n",
              "      <td>322.04</td>\n",
              "      <td>322.29</td>\n",
              "      <td>309.46</td>\n",
              "      <td>620.76</td>\n",
              "      <td>11,688,800</td>\n",
              "    </tr>\n",
              "  </tbody>\n",
              "</table>\n",
              "</div>"
            ],
            "text/plain": [
              "       Date    Open    High     Low   Close      Volume\n",
              "0  1/3/2012  325.25  332.83  324.97  663.59   7,380,500\n",
              "1  1/4/2012  331.27  333.87  329.08  666.45   5,749,400\n",
              "2  1/5/2012  329.83  330.75  326.89  657.21   6,590,300\n",
              "3  1/6/2012  328.34  328.77  323.68  648.24   5,405,900\n",
              "4  1/9/2012  322.04  322.29  309.46  620.76  11,688,800"
            ]
          },
          "metadata": {
            "tags": []
          },
          "execution_count": 6
        }
      ]
    },
    {
      "cell_type": "code",
      "metadata": {
        "id": "HzJDcCudWrnT",
        "colab_type": "code",
        "colab": {}
      },
      "source": [
        "ds_train_open= ds_train.iloc[:, 1:2].values"
      ],
      "execution_count": 0,
      "outputs": []
    },
    {
      "cell_type": "code",
      "metadata": {
        "id": "upq4XvozWwmK",
        "colab_type": "code",
        "colab": {
          "base_uri": "https://localhost:8080/",
          "height": 282
        },
        "outputId": "e2b1ba26-8585-4fbd-af59-2a7ff0381a6f"
      },
      "source": [
        "plt.plot(ds_train_open)"
      ],
      "execution_count": 8,
      "outputs": [
        {
          "output_type": "execute_result",
          "data": {
            "text/plain": [
              "[<matplotlib.lines.Line2D at 0x7f5091142358>]"
            ]
          },
          "metadata": {
            "tags": []
          },
          "execution_count": 8
        },
        {
          "output_type": "display_data",
          "data": {
            "image/png": "[encoded data removed]",
            "text/plain": [
              "<Figure size 432x288 with 1 Axes>"
            ]
          },
          "metadata": {
            "tags": []
          }
        }
      ]
    },
    {
      "cell_type": "markdown",
      "metadata": {
        "id": "94ntR7sqXNxa",
        "colab_type": "text"
      },
      "source": [
        "#### Feature Scaling"
      ]
    },
    {
      "cell_type": "code",
      "metadata": {
        "id": "26NP9wbKXEX5",
        "colab_type": "code",
        "colab": {}
      },
      "source": [
        "from sklearn.preprocessing import MinMaxScaler\n",
        "mms= MinMaxScaler(feature_range= (0, 1))"
      ],
      "execution_count": 0,
      "outputs": []
    },
    {
      "cell_type": "code",
      "metadata": {
        "id": "TT6-YuBIXcW0",
        "colab_type": "code",
        "colab": {}
      },
      "source": [
        "train_scaled= mms.fit_transform(ds_train_open)"
      ],
      "execution_count": 0,
      "outputs": []
    },
    {
      "cell_type": "code",
      "metadata": {
        "id": "guun75QFYENA",
        "colab_type": "code",
        "colab": {
          "base_uri": "https://localhost:8080/",
          "height": 102
        },
        "outputId": "8a385b56-f68f-4b35-84f1-225f12ce3b28"
      },
      "source": [
        "train_scaled[:5]"
      ],
      "execution_count": 11,
      "outputs": [
        {
          "output_type": "execute_result",
          "data": {
            "text/plain": [
              "array([[0.08581368],\n",
              "       [0.09701243],\n",
              "       [0.09433366],\n",
              "       [0.09156187],\n",
              "       [0.07984225]])"
            ]
          },
          "metadata": {
            "tags": []
          },
          "execution_count": 11
        }
      ]
    },
    {
      "cell_type": "code",
      "metadata": {
        "id": "_RIkWldBYHFJ",
        "colab_type": "code",
        "colab": {
          "base_uri": "https://localhost:8080/",
          "height": 282
        },
        "outputId": "b606a812-c343-45c4-963a-f228b5a3c44f"
      },
      "source": [
        "plt.plot(train_scaled)"
      ],
      "execution_count": 12,
      "outputs": [
        {
          "output_type": "execute_result",
          "data": {
            "text/plain": [
              "[<matplotlib.lines.Line2D at 0x7f5085efd588>]"
            ]
          },
          "metadata": {
            "tags": []
          },
          "execution_count": 12
        },
        {
          "output_type": "display_data",
          "data": {
            "image/png": "[encoded data removed]",
            "text/plain": [
              "<Figure size 432x288 with 1 Axes>"
            ]
          },
          "metadata": {
            "tags": []
          }
        }
      ]
    },
    {
      "cell_type": "markdown",
      "metadata": {
        "id": "Su2iIoz_YS2x",
        "colab_type": "text"
      },
      "source": [
        "#### Creating dataset with 60 timesteps"
      ]
    },
    {
      "cell_type": "code",
      "metadata": {
        "id": "jH5FPFJ2YI8f",
        "colab_type": "code",
        "colab": {}
      },
      "source": [
        "NUM_TIMESTEPS= 60\n",
        "X_train= []\n",
        "y_train= []"
      ],
      "execution_count": 0,
      "outputs": []
    },
    {
      "cell_type": "code",
      "metadata": {
        "id": "zo5t866VYbT6",
        "colab_type": "code",
        "colab": {}
      },
      "source": [
        "for i in range(0, len(train_scaled)- NUM_TIMESTEPS):\n",
        "    X_train.append(train_scaled[i: i+NUM_TIMESTEPS, 0])\n",
        "    y_train.append(train_scaled[i+NUM_TIMESTEPS, 0])"
      ],
      "execution_count": 0,
      "outputs": []
    },
    {
      "cell_type": "code",
      "metadata": {
        "id": "RmJ-A6NBY_66",
        "colab_type": "code",
        "colab": {}
      },
      "source": [
        "X_train, y_train= np.array(X_train), np.array(y_train)"
      ],
      "execution_count": 0,
      "outputs": []
    },
    {
      "cell_type": "code",
      "metadata": {
        "id": "YDQbQ224ZKFn",
        "colab_type": "code",
        "colab": {
          "base_uri": "https://localhost:8080/",
          "height": 282
        },
        "outputId": "21a42c4d-a04a-413e-909b-f5c3d230d44b"
      },
      "source": [
        "plt.plot(y_train)"
      ],
      "execution_count": 16,
      "outputs": [
        {
          "output_type": "execute_result",
          "data": {
            "text/plain": [
              "[<matplotlib.lines.Line2D at 0x7f5085ee4a20>]"
            ]
          },
          "metadata": {
            "tags": []
          },
          "execution_count": 16
        },
        {
          "output_type": "display_data",
          "data": {
            "image/png": "[encoded data removed]",
            "text/plain": [
              "<Figure size 432x288 with 1 Axes>"
            ]
          },
          "metadata": {
            "tags": []
          }
        }
      ]
    },
    {
      "cell_type": "code",
      "metadata": {
        "id": "XtyUnrTaZN8A",
        "colab_type": "code",
        "colab": {
          "base_uri": "https://localhost:8080/",
          "height": 283
        },
        "outputId": "7da2fc32-2029-4c97-d83a-bd006d708118"
      },
      "source": [
        "plt.plot(X_train[0])\n",
        "plt.plot(X_train[1])"
      ],
      "execution_count": 17,
      "outputs": [
        {
          "output_type": "execute_result",
          "data": {
            "text/plain": [
              "[<matplotlib.lines.Line2D at 0x7f5090cc28d0>]"
            ]
          },
          "metadata": {
            "tags": []
          },
          "execution_count": 17
        },
        {
          "output_type": "display_data",
          "data": {
            "image/png": "[encoded data removed]",
            "text/plain": [
              "<Figure size 432x288 with 1 Axes>"
            ]
          },
          "metadata": {
            "tags": []
          }
        }
      ]
    },
    {
      "cell_type": "code",
      "metadata": {
        "id": "wqndJm-BZSam",
        "colab_type": "code",
        "colab": {
          "base_uri": "https://localhost:8080/",
          "height": 34
        },
        "outputId": "7cb94a8b-1c38-4d4a-f68a-e647f2232757"
      },
      "source": [
        "X_train.shape"
      ],
      "execution_count": 18,
      "outputs": [
        {
          "output_type": "execute_result",
          "data": {
            "text/plain": [
              "(1198, 60)"
            ]
          },
          "metadata": {
            "tags": []
          },
          "execution_count": 18
        }
      ]
    },
    {
      "cell_type": "code",
      "metadata": {
        "id": "kU0K6gPaZYoY",
        "colab_type": "code",
        "colab": {}
      },
      "source": [
        "X_train= np.reshape(X_train, (X_train.shape[0], X_train.shape[1], 1))"
      ],
      "execution_count": 0,
      "outputs": []
    },
    {
      "cell_type": "code",
      "metadata": {
        "id": "tTkggWJFZhuI",
        "colab_type": "code",
        "colab": {
          "base_uri": "https://localhost:8080/",
          "height": 34
        },
        "outputId": "b96cb4eb-dd98-4250-e494-de9bd5b3b945"
      },
      "source": [
        "X_train.shape"
      ],
      "execution_count": 20,
      "outputs": [
        {
          "output_type": "execute_result",
          "data": {
            "text/plain": [
              "(1198, 60, 1)"
            ]
          },
          "metadata": {
            "tags": []
          },
          "execution_count": 20
        }
      ]
    },
    {
      "cell_type": "markdown",
      "metadata": {
        "id": "ZwDiFnQkaOks",
        "colab_type": "text"
      },
      "source": [
        "### Model Building"
      ]
    },
    {
      "cell_type": "code",
      "metadata": {
        "id": "5I1O3r4nZiuI",
        "colab_type": "code",
        "colab": {}
      },
      "source": [
        "from keras.models import Sequential\n",
        "from keras.layers import Dense\n",
        "from keras.layers import LSTM\n",
        "from keras.layers import Dropout"
      ],
      "execution_count": 0,
      "outputs": []
    },
    {
      "cell_type": "code",
      "metadata": {
        "id": "SdDnOofUagHE",
        "colab_type": "code",
        "colab": {}
      },
      "source": [
        "rnn= Sequential()"
      ],
      "execution_count": 0,
      "outputs": []
    },
    {
      "cell_type": "code",
      "metadata": {
        "id": "Ku5cJXpIa0ma",
        "colab_type": "code",
        "colab": {}
      },
      "source": [
        "rnn.add(LSTM(units= 50, return_sequences= True, input_shape= (X_train.shape[1], 1)))\n",
        "rnn.add(Dropout(0.2))"
      ],
      "execution_count": 0,
      "outputs": []
    },
    {
      "cell_type": "code",
      "metadata": {
        "id": "Y3aflp_9cRZm",
        "colab_type": "code",
        "colab": {}
      },
      "source": [
        "rnn.add(LSTM(units= 50, return_sequences= True))\n",
        "rnn.add(Dropout(0.2))"
      ],
      "execution_count": 0,
      "outputs": []
    },
    {
      "cell_type": "code",
      "metadata": {
        "id": "EU5wYcSRcl2y",
        "colab_type": "code",
        "colab": {}
      },
      "source": [
        "rnn.add(LSTM(units= 50))\n",
        "rnn.add(Dropout(0.2))"
      ],
      "execution_count": 0,
      "outputs": []
    },
    {
      "cell_type": "code",
      "metadata": {
        "id": "agLulAQOcnXZ",
        "colab_type": "code",
        "colab": {}
      },
      "source": [
        "rnn.add(Dense(units=1))"
      ],
      "execution_count": 0,
      "outputs": []
    },
    {
      "cell_type": "code",
      "metadata": {
        "id": "eJ1386YnctZB",
        "colab_type": "code",
        "colab": {
          "base_uri": "https://localhost:8080/",
          "height": 71
        },
        "outputId": "ae17c36a-2fbd-44b4-a45a-e2183d063f9e"
      },
      "source": [
        "rnn.compile(optimizer= 'adam', loss= 'mean_squared_error')"
      ],
      "execution_count": 33,
      "outputs": [
        {
          "output_type": "stream",
          "text": [
            "WARNING:tensorflow:From /usr/local/lib/python3.6/dist-packages/keras/optimizers.py:793: The name tf.train.Optimizer is deprecated. Please use tf.compat.v1.train.Optimizer instead.\n",
            "\n"
          ],
          "name": "stdout"
        }
      ]
    },
    {
      "cell_type": "code",
      "metadata": {
        "id": "boHpKdeiiref",
        "colab_type": "code",
        "colab": {
          "base_uri": "https://localhost:8080/",
          "height": 1000
        },
        "outputId": "6a4b4d2c-1598-4b6a-9459-589002a4d2b6"
      },
      "source": [
        "rnn.fit(X_train, y_train, epochs= 100, batch_size= 32)"
      ],
      "execution_count": 35,
      "outputs": [
        {
          "output_type": "stream",
          "text": [
            "WARNING:tensorflow:From /tensorflow-1.15.0/python3.6/tensorflow_core/python/ops/math_grad.py:1424: where (from tensorflow.python.ops.array_ops) is deprecated and will be removed in a future version.\n",
            "Instructions for updating:\n",
            "Use tf.where in 2.0, which has the same broadcast rule as np.where\n",
            "WARNING:tensorflow:From /usr/local/lib/python3.6/dist-packages/keras/backend/tensorflow_backend.py:1033: The name tf.assign_add is deprecated. Please use tf.compat.v1.assign_add instead.\n",
            "\n",
            "WARNING:tensorflow:From /usr/local/lib/python3.6/dist-packages/keras/backend/tensorflow_backend.py:1020: The name tf.assign is deprecated. Please use tf.compat.v1.assign instead.\n",
            "\n",
            "WARNING:tensorflow:From /usr/local/lib/python3.6/dist-packages/keras/backend/tensorflow_backend.py:3005: The name tf.Session is deprecated. Please use tf.compat.v1.Session instead.\n",
            "\n",
            "Epoch 1/100\n",
            "WARNING:tensorflow:From /usr/local/lib/python3.6/dist-packages/keras/backend/tensorflow_backend.py:190: The name tf.get_default_session is deprecated. Please use tf.compat.v1.get_default_session instead.\n",
            "\n",
            "WARNING:tensorflow:From /usr/local/lib/python3.6/dist-packages/keras/backend/tensorflow_backend.py:197: The name tf.ConfigProto is deprecated. Please use tf.compat.v1.ConfigProto instead.\n",
            "\n",
            "WARNING:tensorflow:From /usr/local/lib/python3.6/dist-packages/keras/backend/tensorflow_backend.py:207: The name tf.global_variables is deprecated. Please use tf.compat.v1.global_variables instead.\n",
            "\n",
            "WARNING:tensorflow:From /usr/local/lib/python3.6/dist-packages/keras/backend/tensorflow_backend.py:216: The name tf.is_variable_initialized is deprecated. Please use tf.compat.v1.is_variable_initialized instead.\n",
            "\n",
            "WARNING:tensorflow:From /usr/local/lib/python3.6/dist-packages/keras/backend/tensorflow_backend.py:223: The name tf.variables_initializer is deprecated. Please use tf.compat.v1.variables_initializer instead.\n",
            "\n",
            "1198/1198 [==============================] - 22s 18ms/step - loss: 0.0415\n",
            "Epoch 2/100\n",
            "1198/1198 [==============================] - 12s 10ms/step - loss: 0.0053\n",
            "Epoch 3/100\n",
            "1198/1198 [==============================] - 12s 10ms/step - loss: 0.0053\n",
            "Epoch 4/100\n",
            "1198/1198 [==============================] - 12s 10ms/step - loss: 0.0053\n",
            "Epoch 5/100\n",
            "1198/1198 [==============================] - 12s 10ms/step - loss: 0.0043\n",
            "Epoch 6/100\n",
            "1198/1198 [==============================] - 12s 10ms/step - loss: 0.0041\n",
            "Epoch 7/100\n",
            "1198/1198 [==============================] - 12s 10ms/step - loss: 0.0040\n",
            "Epoch 8/100\n",
            "1198/1198 [==============================] - 12s 10ms/step - loss: 0.0039\n",
            "Epoch 9/100\n",
            "1198/1198 [==============================] - 12s 10ms/step - loss: 0.0036\n",
            "Epoch 10/100\n",
            "1198/1198 [==============================] - 12s 10ms/step - loss: 0.0040\n",
            "Epoch 11/100\n",
            "1198/1198 [==============================] - 12s 10ms/step - loss: 0.0037\n",
            "Epoch 12/100\n",
            "1198/1198 [==============================] - 12s 10ms/step - loss: 0.0032\n",
            "Epoch 13/100\n",
            "1198/1198 [==============================] - 12s 10ms/step - loss: 0.0035\n",
            "Epoch 14/100\n",
            "1198/1198 [==============================] - 12s 10ms/step - loss: 0.0040\n",
            "Epoch 15/100\n",
            "1198/1198 [==============================] - 12s 10ms/step - loss: 0.0037\n",
            "Epoch 16/100\n",
            "1198/1198 [==============================] - 12s 10ms/step - loss: 0.0032\n",
            "Epoch 17/100\n",
            "1198/1198 [==============================] - 12s 10ms/step - loss: 0.0031\n",
            "Epoch 18/100\n",
            "1198/1198 [==============================] - 12s 10ms/step - loss: 0.0036\n",
            "Epoch 19/100\n",
            "1198/1198 [==============================] - 12s 10ms/step - loss: 0.0032\n",
            "Epoch 20/100\n",
            "1198/1198 [==============================] - 12s 10ms/step - loss: 0.0030\n",
            "Epoch 21/100\n",
            "1198/1198 [==============================] - 12s 10ms/step - loss: 0.0030\n",
            "Epoch 22/100\n",
            "1198/1198 [==============================] - 12s 10ms/step - loss: 0.0032\n",
            "Epoch 23/100\n",
            "1198/1198 [==============================] - 12s 10ms/step - loss: 0.0028\n",
            "Epoch 24/100\n",
            "1198/1198 [==============================] - 12s 10ms/step - loss: 0.0027\n",
            "Epoch 25/100\n",
            "1198/1198 [==============================] - 12s 10ms/step - loss: 0.0031\n",
            "Epoch 26/100\n",
            "1198/1198 [==============================] - 12s 10ms/step - loss: 0.0030\n",
            "Epoch 27/100\n",
            "1198/1198 [==============================] - 12s 10ms/step - loss: 0.0033\n",
            "Epoch 28/100\n",
            "1198/1198 [==============================] - 12s 10ms/step - loss: 0.0031\n",
            "Epoch 29/100\n",
            "1198/1198 [==============================] - 12s 10ms/step - loss: 0.0028\n",
            "Epoch 30/100\n",
            "1198/1198 [==============================] - 12s 10ms/step - loss: 0.0030\n",
            "Epoch 31/100\n",
            "1198/1198 [==============================] - 12s 10ms/step - loss: 0.0027\n",
            "Epoch 32/100\n",
            "1198/1198 [==============================] - 12s 10ms/step - loss: 0.0029\n",
            "Epoch 33/100\n",
            "1198/1198 [==============================] - 12s 10ms/step - loss: 0.0029\n",
            "Epoch 34/100\n",
            "1198/1198 [==============================] - 12s 10ms/step - loss: 0.0024\n",
            "Epoch 35/100\n",
            "1198/1198 [==============================] - 12s 10ms/step - loss: 0.0024\n",
            "Epoch 36/100\n",
            "1198/1198 [==============================] - 12s 10ms/step - loss: 0.0025\n",
            "Epoch 37/100\n",
            "1198/1198 [==============================] - 12s 10ms/step - loss: 0.0024\n",
            "Epoch 38/100\n",
            "1198/1198 [==============================] - 12s 10ms/step - loss: 0.0027\n",
            "Epoch 39/100\n",
            "1198/1198 [==============================] - 12s 10ms/step - loss: 0.0024\n",
            "Epoch 40/100\n",
            "1198/1198 [==============================] - 12s 10ms/step - loss: 0.0027\n",
            "Epoch 41/100\n",
            "1198/1198 [==============================] - 12s 10ms/step - loss: 0.0023\n",
            "Epoch 42/100\n",
            "1198/1198 [==============================] - 12s 10ms/step - loss: 0.0023\n",
            "Epoch 43/100\n",
            "1198/1198 [==============================] - 12s 10ms/step - loss: 0.0020\n",
            "Epoch 44/100\n",
            "1198/1198 [==============================] - 12s 10ms/step - loss: 0.0022\n",
            "Epoch 45/100\n",
            "1198/1198 [==============================] - 12s 10ms/step - loss: 0.0022\n",
            "Epoch 46/100\n",
            "1198/1198 [==============================] - 12s 10ms/step - loss: 0.0025\n",
            "Epoch 47/100\n",
            "1198/1198 [==============================] - 12s 10ms/step - loss: 0.0024\n",
            "Epoch 48/100\n",
            "1198/1198 [==============================] - 12s 10ms/step - loss: 0.0021\n",
            "Epoch 49/100\n",
            "1198/1198 [==============================] - 12s 10ms/step - loss: 0.0020\n",
            "Epoch 50/100\n",
            "1198/1198 [==============================] - 12s 10ms/step - loss: 0.0021\n",
            "Epoch 51/100\n",
            "1198/1198 [==============================] - 12s 10ms/step - loss: 0.0021\n",
            "Epoch 52/100\n",
            "1198/1198 [==============================] - 12s 10ms/step - loss: 0.0022\n",
            "Epoch 53/100\n",
            "1198/1198 [==============================] - 12s 10ms/step - loss: 0.0021\n",
            "Epoch 54/100\n",
            "1198/1198 [==============================] - 12s 10ms/step - loss: 0.0019\n",
            "Epoch 55/100\n",
            "1198/1198 [==============================] - 12s 10ms/step - loss: 0.0021\n",
            "Epoch 56/100\n",
            "1198/1198 [==============================] - 12s 10ms/step - loss: 0.0021\n",
            "Epoch 57/100\n",
            "1198/1198 [==============================] - 12s 10ms/step - loss: 0.0019\n",
            "Epoch 58/100\n",
            "1198/1198 [==============================] - 12s 10ms/step - loss: 0.0018\n",
            "Epoch 59/100\n",
            "1198/1198 [==============================] - 12s 10ms/step - loss: 0.0017\n",
            "Epoch 60/100\n",
            "1198/1198 [==============================] - 12s 10ms/step - loss: 0.0019\n",
            "Epoch 61/100\n",
            "1198/1198 [==============================] - 12s 10ms/step - loss: 0.0018\n",
            "Epoch 62/100\n",
            "1198/1198 [==============================] - 12s 10ms/step - loss: 0.0019\n",
            "Epoch 63/100\n",
            "1198/1198 [==============================] - 12s 10ms/step - loss: 0.0020\n",
            "Epoch 64/100\n",
            "1198/1198 [==============================] - 12s 10ms/step - loss: 0.0019\n",
            "Epoch 65/100\n",
            "1198/1198 [==============================] - 12s 10ms/step - loss: 0.0016\n",
            "Epoch 66/100\n",
            "1198/1198 [==============================] - 12s 10ms/step - loss: 0.0018\n",
            "Epoch 67/100\n",
            "1198/1198 [==============================] - 12s 10ms/step - loss: 0.0016\n",
            "Epoch 68/100\n",
            "1198/1198 [==============================] - 13s 10ms/step - loss: 0.0021\n",
            "Epoch 69/100\n",
            "1198/1198 [==============================] - 13s 10ms/step - loss: 0.0019\n",
            "Epoch 70/100\n",
            "1198/1198 [==============================] - 12s 10ms/step - loss: 0.0019\n",
            "Epoch 71/100\n",
            "1198/1198 [==============================] - 12s 10ms/step - loss: 0.0015\n",
            "Epoch 72/100\n",
            "1198/1198 [==============================] - 13s 10ms/step - loss: 0.0018\n",
            "Epoch 73/100\n",
            "1198/1198 [==============================] - 13s 11ms/step - loss: 0.0017\n",
            "Epoch 74/100\n",
            "1198/1198 [==============================] - 13s 10ms/step - loss: 0.0017\n",
            "Epoch 75/100\n",
            "1198/1198 [==============================] - 12s 10ms/step - loss: 0.0017\n",
            "Epoch 76/100\n",
            "1198/1198 [==============================] - 12s 10ms/step - loss: 0.0016\n",
            "Epoch 77/100\n",
            "1198/1198 [==============================] - 12s 10ms/step - loss: 0.0016\n",
            "Epoch 78/100\n",
            "1198/1198 [==============================] - 13s 10ms/step - loss: 0.0015\n",
            "Epoch 79/100\n",
            "1198/1198 [==============================] - 13s 10ms/step - loss: 0.0016\n",
            "Epoch 80/100\n",
            "1198/1198 [==============================] - 13s 10ms/step - loss: 0.0015\n",
            "Epoch 81/100\n",
            "1198/1198 [==============================] - 13s 10ms/step - loss: 0.0015\n",
            "Epoch 82/100\n",
            "1198/1198 [==============================] - 13s 10ms/step - loss: 0.0017\n",
            "Epoch 83/100\n",
            "1198/1198 [==============================] - 13s 11ms/step - loss: 0.0017\n",
            "Epoch 84/100\n",
            "1198/1198 [==============================] - 13s 10ms/step - loss: 0.0015\n",
            "Epoch 85/100\n",
            "1198/1198 [==============================] - 13s 10ms/step - loss: 0.0016\n",
            "Epoch 86/100\n",
            "1198/1198 [==============================] - 13s 10ms/step - loss: 0.0015\n",
            "Epoch 87/100\n",
            "1198/1198 [==============================] - 13s 11ms/step - loss: 0.0015\n",
            "Epoch 88/100\n",
            "1198/1198 [==============================] - 13s 11ms/step - loss: 0.0015\n",
            "Epoch 89/100\n",
            "1198/1198 [==============================] - 13s 10ms/step - loss: 0.0014\n",
            "Epoch 90/100\n",
            "1198/1198 [==============================] - 13s 10ms/step - loss: 0.0013\n",
            "Epoch 91/100\n",
            "1198/1198 [==============================] - 13s 11ms/step - loss: 0.0014\n",
            "Epoch 92/100\n",
            "1198/1198 [==============================] - 13s 11ms/step - loss: 0.0013\n",
            "Epoch 93/100\n",
            "1198/1198 [==============================] - 13s 11ms/step - loss: 0.0016\n",
            "Epoch 94/100\n",
            "1198/1198 [==============================] - 13s 10ms/step - loss: 0.0014\n",
            "Epoch 95/100\n",
            "1198/1198 [==============================] - 13s 10ms/step - loss: 0.0014\n",
            "Epoch 96/100\n",
            "1198/1198 [==============================] - 13s 10ms/step - loss: 0.0013\n",
            "Epoch 97/100\n",
            "1198/1198 [==============================] - 13s 10ms/step - loss: 0.0014\n",
            "Epoch 98/100\n",
            "1198/1198 [==============================] - 13s 11ms/step - loss: 0.0013\n",
            "Epoch 99/100\n",
            "1198/1198 [==============================] - 13s 11ms/step - loss: 0.0013\n",
            "Epoch 100/100\n",
            "1198/1198 [==============================] - 13s 10ms/step - loss: 0.0015\n"
          ],
          "name": "stdout"
        },
        {
          "output_type": "execute_result",
          "data": {
            "text/plain": [
              "<keras.callbacks.History at 0x7f50461515f8>"
            ]
          },
          "metadata": {
            "tags": []
          },
          "execution_count": 35
        }
      ]
    },
    {
      "cell_type": "code",
      "metadata": {
        "id": "XO28JB0Ompiy",
        "colab_type": "code",
        "colab": {}
      },
      "source": [
        "rnn.save(\"stock_predictor_model\")"
      ],
      "execution_count": 0,
      "outputs": []
    },
    {
      "cell_type": "code",
      "metadata": {
        "id": "emUwTBChn_qB",
        "colab_type": "code",
        "colab": {
          "base_uri": "https://localhost:8080/",
          "height": 88
        },
        "outputId": "1a48a563-9e94-4514-fbe3-7a71e0099eb1"
      },
      "source": [
        "import tensorflow as tf\n",
        "rnn= tf.keras.models.load_model(\"stock_predictor_model\")"
      ],
      "execution_count": 43,
      "outputs": [
        {
          "output_type": "stream",
          "text": [
            "WARNING:tensorflow:From /tensorflow-1.15.0/python3.6/tensorflow_core/python/ops/resource_variable_ops.py:1630: calling BaseResourceVariable.__init__ (from tensorflow.python.ops.resource_variable_ops) with constraint is deprecated and will be removed in a future version.\n",
            "Instructions for updating:\n",
            "If using Keras pass *_constraint arguments to layers.\n"
          ],
          "name": "stdout"
        }
      ]
    },
    {
      "cell_type": "markdown",
      "metadata": {
        "id": "y6IMiBtIk05E",
        "colab_type": "text"
      },
      "source": [
        "### Prediction Time :)"
      ]
    },
    {
      "cell_type": "code",
      "metadata": {
        "id": "P70_hvJBjWNb",
        "colab_type": "code",
        "colab": {}
      },
      "source": [
        "ds_test= pd.read_csv(\"Google_Stock_Price_Test.csv\")"
      ],
      "execution_count": 0,
      "outputs": []
    },
    {
      "cell_type": "code",
      "metadata": {
        "id": "dJAwmjOylQ_5",
        "colab_type": "code",
        "colab": {}
      },
      "source": [
        "real_stock_price= ds_test.iloc[:, 1:2].values"
      ],
      "execution_count": 0,
      "outputs": []
    },
    {
      "cell_type": "code",
      "metadata": {
        "id": "6G2XCJvzlZNH",
        "colab_type": "code",
        "colab": {
          "base_uri": "https://localhost:8080/",
          "height": 284
        },
        "outputId": "7040fb0c-7328-4211-c837-0a9369032613"
      },
      "source": [
        "plt.plot(real_stock_price)"
      ],
      "execution_count": 38,
      "outputs": [
        {
          "output_type": "execute_result",
          "data": {
            "text/plain": [
              "[<matplotlib.lines.Line2D at 0x7f503675b630>]"
            ]
          },
          "metadata": {
            "tags": []
          },
          "execution_count": 38
        },
        {
          "output_type": "display_data",
          "data": {
            "image/png": "[encoded data removed]",
            "text/plain": [
              "<Figure size 432x288 with 1 Axes>"
            ]
          },
          "metadata": {
            "tags": []
          }
        }
      ]
    },
    {
      "cell_type": "code",
      "metadata": {
        "id": "LfbO-mf8lcbn",
        "colab_type": "code",
        "colab": {}
      },
      "source": [
        ""
      ],
      "execution_count": 0,
      "outputs": []
    }
  ]
}